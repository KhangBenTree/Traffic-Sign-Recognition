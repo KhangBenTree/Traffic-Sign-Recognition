{
 "cells": [
  {
   "cell_type": "code",
   "execution_count": 3,
   "metadata": {},
   "outputs": [],
   "source": [
    "import tensorflow as tf\n",
    "import pickle"
   ]
  },
  {
   "cell_type": "code",
   "execution_count": 7,
   "metadata": {},
   "outputs": [],
   "source": [
    "with open(\"./test.p\",mode=\"rb\") as f:\n",
    "    test= pickle.load(f)"
   ]
  },
  {
   "cell_type": "code",
   "execution_count": 16,
   "metadata": {},
   "outputs": [],
   "source": [
    "testX, testY = test[\"features\"] , test[\"labels\"]\n",
    "testX = testX.astype(\"float\")/255.0\n",
    "classNames = {0: 'Speed limit (20km/h)',\n",
    " 1: 'Speed limit (30km/h)',\n",
    " 2: 'Speed limit (50km/h)',\n",
    " 3: 'Speed limit (60km/h)',\n",
    " 4: 'Speed limit (70km/h)',\n",
    " 5: 'Speed limit (80km/h)',\n",
    " 6: 'End of speed limit (80km/h)',\n",
    " 7: 'Speed limit (100km/h)',\n",
    " 8: 'Speed limit (120km/h)',\n",
    " 9: 'No passing',\n",
    " 10: 'No passing for vehicles over 3.5 metric tons',\n",
    " 11: 'Right-of-way at the next intersection',\n",
    " 12: 'Priority road',\n",
    " 13: 'Yield',\n",
    " 14: 'Stop',\n",
    " 15: 'No vehicles',\n",
    " 16: 'Vehicles over 3.5 metric tons prohibited',\n",
    " 17: 'No entry',\n",
    " 18: 'General caution',\n",
    " 19: 'Dangerous curve to the left',\n",
    " 20: 'Dangerous curve to the right',\n",
    " 21: 'Double curve',\n",
    " 22: 'Bumpy road',\n",
    " 23: 'Slippery road',\n",
    " 24: 'Road narrows on the right',\n",
    " 25: 'Road work',\n",
    " 26: 'Traffic signals',\n",
    " 27: 'Pedestrians',\n",
    " 28: 'Children crossing',\n",
    " 29: 'Bicycles crossing',\n",
    " 30: 'Beware of ice/snow',\n",
    " 31: 'Wild animals crossing',\n",
    " 32: 'End of all speed and passing limits',\n",
    " 33: 'Turn right ahead',\n",
    " 34: 'Turn left ahead',\n",
    " 35: 'Ahead only',\n",
    " 36: 'Go straight or right',\n",
    " 37: 'Go straight or left',\n",
    " 38: 'Keep right',\n",
    " 39: 'Keep left',\n",
    " 40: 'Roundabout mandatory',\n",
    " 41: 'End of no passing',\n",
    " 42: 'End of no passing by vehicles over 3.5 metric tons'}\n",
    "\n"
   ]
  },
  {
   "cell_type": "code",
   "execution_count": 9,
   "metadata": {},
   "outputs": [],
   "source": [
    "model = tf.keras.models.load_model(\"model01.h5\")"
   ]
  },
  {
   "cell_type": "code",
   "execution_count": 28,
   "metadata": {},
   "outputs": [],
   "source": [
    "import numpy as np\n",
    "import matplotlib.pyplot as plt"
   ]
  },
  {
   "cell_type": "code",
   "execution_count": 46,
   "metadata": {},
   "outputs": [
    {
     "name": "stdout",
     "output_type": "stream",
     "text": [
      "1/1 [==============================] - 0s 133ms/step\n"
     ]
    },
    {
     "data": {
      "text/plain": [
       "'Speed limit (80km/h)'"
      ]
     },
     "execution_count": 46,
     "metadata": {},
     "output_type": "execute_result"
    },
    {
     "data": {
      "image/png": "[encoded data removed]",
      "text/plain": [
       "<Figure size 432x288 with 1 Axes>"
      ]
     },
     "metadata": {
      "needs_background": "light"
     },
     "output_type": "display_data"
    }
   ],
   "source": [
    "x=213\n",
    "result = model.predict(testX[x:x+1])\n",
    "final =classNames[np.argmax(result)]\n",
    "plt.imshow(test[\"features\"][x])\n",
    "final"
   ]
  },
  {
   "cell_type": "code",
   "execution_count": 47,
   "metadata": {},
   "outputs": [
    {
     "ename": "ModuleNotFoundError",
     "evalue": "No module named 'Image'",
     "output_type": "error",
     "traceback": [
      "\u001b[1;31m---------------------------------------------------------------------------\u001b[0m",
      "\u001b[1;31mModuleNotFoundError\u001b[0m                       Traceback (most recent call last)",
      "\u001b[1;32mc:\\Users\\Admin\\Desktop\\BTL LTNC\\Traffic-Sign-Recognition\\predict.ipynb Cell 7'\u001b[0m in \u001b[0;36m<cell line: 1>\u001b[1;34m()\u001b[0m\n\u001b[1;32m----> <a href='vscode-notebook-cell:/c%3A/Users/Admin/Desktop/BTL%20LTNC/Traffic-Sign-Recognition/predict.ipynb#ch0000011?line=0'>1</a>\u001b[0m \u001b[39mimport\u001b[39;00m \u001b[39mImage\u001b[39;00m\n",
      "\u001b[1;31mModuleNotFoundError\u001b[0m: No module named 'Image'"
     ]
    }
   ],
   "source": [
    "import Image"
   ]
  },
  {
   "cell_type": "code",
   "execution_count": 24,
   "metadata": {},
   "outputs": [],
   "source": [
    "import numpy as np\n",
    "from PIL import Image"
   ]
  },
  {
   "cell_type": "code",
   "execution_count": 30,
   "metadata": {},
   "outputs": [
    {
     "data": {
      "text/plain": [
       "'Speed limit (30km/h)'"
      ]
     },
     "execution_count": 30,
     "metadata": {},
     "output_type": "execute_result"
    }
   ],
   "source": []
  }
 ],
 "metadata": {
  "interpreter": {
   "hash": "a42ccb73e7d9bfdf27e036f1d2b8b681e55fc0743cc5586bc2474d4a60f4b886"
  },
  "kernelspec": {
   "display_name": "Python 3.10.4 64-bit",
   "language": "python",
   "name": "python3"
  },
  "language_info": {
   "codemirror_mode": {
    "name": "ipython",
    "version": 3
   },
   "file_extension": ".py",
   "mimetype": "text/x-python",
   "name": "python",
   "nbconvert_exporter": "python",
   "pygments_lexer": "ipython3",
   "version": "3.10.4"
  },
  "orig_nbformat": 4
 },
 "nbformat": 4,
 "nbformat_minor": 2
}
