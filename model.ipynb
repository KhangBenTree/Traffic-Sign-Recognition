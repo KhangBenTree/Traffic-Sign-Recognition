{
 "cells": [
  {
   "cell_type": "code",
<<<<<<< Updated upstream
   "execution_count": 128,
=======
   "execution_count": 2,
>>>>>>> Stashed changes
   "metadata": {},
   "outputs": [
    {
     "name": "stdout",
     "output_type": "stream",
     "text": [
<<<<<<< Updated upstream
      "Note: you may need to restart the kernel to use updated packages.\n"
     ]
    },
    {
     "name": "stderr",
     "output_type": "stream",
     "text": [
      "ERROR: Invalid requirement: '=='\n"
     ]
    }
   ],
   "source": [
    "pip install tensorflow-gpu == 2.0.rc"
=======
      "Collecting tensorflow\n",
      "  Using cached tensorflow-2.9.1-cp310-cp310-win_amd64.whl (444.1 MB)\n",
      "Collecting termcolor>=1.1.0\n",
      "  Downloading termcolor-1.1.0.tar.gz (3.9 kB)\n",
      "  Preparing metadata (setup.py): started\n",
      "  Preparing metadata (setup.py): finished with status 'done'\n",
      "Collecting libclang>=13.0.0\n",
      "  Downloading libclang-14.0.1-py2.py3-none-win_amd64.whl (14.2 MB)\n",
      "     ---------------------------------------- 14.2/14.2 MB 1.2 MB/s eta 0:00:00\n",
      "Collecting tensorflow-io-gcs-filesystem>=0.23.1\n",
      "  Downloading tensorflow_io_gcs_filesystem-0.26.0-cp310-cp310-win_amd64.whl (1.5 MB)\n",
      "     ---------------------------------------- 1.5/1.5 MB 1.6 MB/s eta 0:00:00\n",
      "Collecting flatbuffers<2,>=1.12\n",
      "  Downloading flatbuffers-1.12-py2.py3-none-any.whl (15 kB)\n",
      "Collecting opt-einsum>=2.3.2\n",
      "  Downloading opt_einsum-3.3.0-py3-none-any.whl (65 kB)\n",
      "     ---------------------------------------- 65.5/65.5 kB 1.2 MB/s eta 0:00:00\n",
      "Collecting absl-py>=1.0.0\n",
      "  Downloading absl_py-1.0.0-py3-none-any.whl (126 kB)\n",
      "     -------------------------------------- 126.7/126.7 kB 1.2 MB/s eta 0:00:00\n",
      "Collecting keras<2.10.0,>=2.9.0rc0\n",
      "  Downloading keras-2.9.0-py2.py3-none-any.whl (1.6 MB)\n",
      "     ---------------------------------------- 1.6/1.6 MB 1.7 MB/s eta 0:00:00\n",
      "Collecting wrapt>=1.11.0\n",
      "  Downloading wrapt-1.14.1-cp310-cp310-win_amd64.whl (35 kB)\n",
      "Requirement already satisfied: setuptools in c:\\users\\admin\\appdata\\local\\programs\\python\\python310\\lib\\site-packages (from tensorflow) (58.1.0)\n",
      "Collecting protobuf<3.20,>=3.9.2\n",
      "  Downloading protobuf-3.19.4-cp310-cp310-win_amd64.whl (895 kB)\n",
      "     ------------------------------------ 895.5/895.5 kB 976.1 kB/s eta 0:00:00\n",
      "Collecting keras-preprocessing>=1.1.1\n",
      "  Downloading Keras_Preprocessing-1.1.2-py2.py3-none-any.whl (42 kB)\n",
      "     ---------------------------------------- 42.6/42.6 kB 2.0 MB/s eta 0:00:00\n",
      "Collecting tensorflow-estimator<2.10.0,>=2.9.0rc0\n",
      "  Downloading tensorflow_estimator-2.9.0-py2.py3-none-any.whl (438 kB)\n",
      "     ------------------------------------ 438.7/438.7 kB 347.2 kB/s eta 0:00:00\n",
      "Collecting astunparse>=1.6.0\n",
      "  Downloading astunparse-1.6.3-py2.py3-none-any.whl (12 kB)\n",
      "Collecting grpcio<2.0,>=1.24.3\n",
      "  Downloading grpcio-1.46.3-cp310-cp310-win_amd64.whl (3.5 MB)\n",
      "     ---------------------------------------- 3.5/3.5 MB 1.2 MB/s eta 0:00:00\n",
      "Collecting google-pasta>=0.1.1\n",
      "  Downloading google_pasta-0.2.0-py3-none-any.whl (57 kB)\n",
      "     ---------------------------------------- 57.5/57.5 kB 1.0 MB/s eta 0:00:00\n",
      "Collecting typing-extensions>=3.6.6\n",
      "  Downloading typing_extensions-4.2.0-py3-none-any.whl (24 kB)\n",
      "Collecting h5py>=2.9.0\n",
      "  Downloading h5py-3.7.0-cp310-cp310-win_amd64.whl (2.6 MB)\n",
      "     ---------------------------------------- 2.6/2.6 MB 1.5 MB/s eta 0:00:00\n",
      "Collecting gast<=0.4.0,>=0.2.1\n",
      "  Downloading gast-0.4.0-py3-none-any.whl (9.8 kB)\n",
      "Requirement already satisfied: six>=1.12.0 in c:\\users\\admin\\appdata\\local\\programs\\python\\python310\\lib\\site-packages (from tensorflow) (1.16.0)\n",
      "Requirement already satisfied: packaging in c:\\users\\admin\\appdata\\local\\programs\\python\\python310\\lib\\site-packages (from tensorflow) (21.3)\n",
      "Collecting tensorboard<2.10,>=2.9\n",
      "  Downloading tensorboard-2.9.0-py3-none-any.whl (5.8 MB)\n",
      "     ---------------------------------------- 5.8/5.8 MB 1.4 MB/s eta 0:00:00\n",
      "Collecting numpy>=1.20\n",
      "  Downloading numpy-1.22.4-cp310-cp310-win_amd64.whl (14.7 MB)\n",
      "     ---------------------------------------- 14.7/14.7 MB 1.2 MB/s eta 0:00:00\n",
      "Collecting wheel<1.0,>=0.23.0\n",
      "  Downloading wheel-0.37.1-py2.py3-none-any.whl (35 kB)\n",
      "Collecting werkzeug>=1.0.1\n",
      "  Downloading Werkzeug-2.1.2-py3-none-any.whl (224 kB)\n",
      "     -------------------------------------- 224.9/224.9 kB 1.4 MB/s eta 0:00:00\n",
      "Collecting requests<3,>=2.21.0\n",
      "  Downloading requests-2.27.1-py2.py3-none-any.whl (63 kB)\n",
      "     ---------------------------------------- 63.1/63.1 kB 1.1 MB/s eta 0:00:00\n",
      "Collecting google-auth-oauthlib<0.5,>=0.4.1\n",
      "  Downloading google_auth_oauthlib-0.4.6-py2.py3-none-any.whl (18 kB)\n",
      "Collecting tensorboard-data-server<0.7.0,>=0.6.0\n",
      "  Downloading tensorboard_data_server-0.6.1-py3-none-any.whl (2.4 kB)\n",
      "Collecting tensorboard-plugin-wit>=1.6.0\n",
      "  Downloading tensorboard_plugin_wit-1.8.1-py3-none-any.whl (781 kB)\n",
      "     -------------------------------------- 781.3/781.3 kB 1.4 MB/s eta 0:00:00\n",
      "Collecting markdown>=2.6.8\n",
      "  Downloading Markdown-3.3.7-py3-none-any.whl (97 kB)\n",
      "     ---------------------------------------- 97.8/97.8 kB 1.4 MB/s eta 0:00:00\n",
      "Collecting google-auth<3,>=1.6.3\n",
      "  Downloading google_auth-2.6.6-py2.py3-none-any.whl (156 kB)\n",
      "     -------------------------------------- 156.7/156.7 kB 1.9 MB/s eta 0:00:00\n",
      "Requirement already satisfied: pyparsing!=3.0.5,>=2.0.2 in c:\\users\\admin\\appdata\\local\\programs\\python\\python310\\lib\\site-packages (from packaging->tensorflow) (3.0.9)\n",
      "Collecting cachetools<6.0,>=2.0.0\n",
      "  Downloading cachetools-5.1.0-py3-none-any.whl (9.2 kB)\n",
      "Collecting pyasn1-modules>=0.2.1\n",
      "  Downloading pyasn1_modules-0.2.8-py2.py3-none-any.whl (155 kB)\n",
      "     -------------------------------------- 155.3/155.3 kB 3.1 MB/s eta 0:00:00\n",
      "Collecting rsa<5,>=3.1.4\n",
      "  Downloading rsa-4.8-py3-none-any.whl (39 kB)\n",
      "Collecting requests-oauthlib>=0.7.0\n",
      "  Downloading requests_oauthlib-1.3.1-py2.py3-none-any.whl (23 kB)\n",
      "Collecting certifi>=2017.4.17\n",
      "  Downloading certifi-2022.5.18.1-py3-none-any.whl (155 kB)\n",
      "     ------------------------------------ 155.2/155.2 kB 579.7 kB/s eta 0:00:00\n",
      "Collecting urllib3<1.27,>=1.21.1\n",
      "  Downloading urllib3-1.26.9-py2.py3-none-any.whl (138 kB)\n",
      "     ------------------------------------ 139.0/139.0 kB 825.3 kB/s eta 0:00:00\n",
      "Collecting charset-normalizer~=2.0.0\n",
      "  Downloading charset_normalizer-2.0.12-py3-none-any.whl (39 kB)\n",
      "Collecting idna<4,>=2.5\n",
      "  Using cached idna-3.3-py3-none-any.whl (61 kB)\n",
      "Collecting pyasn1<0.5.0,>=0.4.6\n",
      "  Downloading pyasn1-0.4.8-py2.py3-none-any.whl (77 kB)\n",
      "     ---------------------------------------- 77.1/77.1 kB 1.4 MB/s eta 0:00:00\n",
      "Collecting oauthlib>=3.0.0\n",
      "  Downloading oauthlib-3.2.0-py3-none-any.whl (151 kB)\n",
      "     -------------------------------------- 151.5/151.5 kB 1.1 MB/s eta 0:00:00\n",
      "Using legacy 'setup.py install' for termcolor, since package 'wheel' is not installed.\n",
      "Installing collected packages: termcolor, tensorboard-plugin-wit, pyasn1, libclang, keras, flatbuffers, wrapt, wheel, werkzeug, urllib3, typing-extensions, tensorflow-io-gcs-filesystem, tensorflow-estimator, tensorboard-data-server, rsa, pyasn1-modules, protobuf, oauthlib, numpy, markdown, idna, grpcio, google-pasta, gast, charset-normalizer, certifi, cachetools, absl-py, requests, opt-einsum, keras-preprocessing, h5py, google-auth, astunparse, requests-oauthlib, google-auth-oauthlib, tensorboard, tensorflow\n",
      "  Running setup.py install for termcolor: started\n",
      "  Running setup.py install for termcolor: finished with status 'done'\n",
      "Successfully installed absl-py-1.0.0 astunparse-1.6.3 cachetools-5.1.0 certifi-2022.5.18.1 charset-normalizer-2.0.12 flatbuffers-1.12 gast-0.4.0 google-auth-2.6.6 google-auth-oauthlib-0.4.6 google-pasta-0.2.0 grpcio-1.46.3 h5py-3.7.0 idna-3.3 keras-2.9.0 keras-preprocessing-1.1.2 libclang-14.0.1 markdown-3.3.7 numpy-1.22.4 oauthlib-3.2.0 opt-einsum-3.3.0 protobuf-3.19.4 pyasn1-0.4.8 pyasn1-modules-0.2.8 requests-2.27.1 requests-oauthlib-1.3.1 rsa-4.8 tensorboard-2.9.0 tensorboard-data-server-0.6.1 tensorboard-plugin-wit-1.8.1 tensorflow-2.9.1 tensorflow-estimator-2.9.0 tensorflow-io-gcs-filesystem-0.26.0 termcolor-1.1.0 typing-extensions-4.2.0 urllib3-1.26.9 werkzeug-2.1.2 wheel-0.37.1 wrapt-1.14.1\n",
      "Note: you may need to restart the kernel to use updated packages.\n"
     ]
    }
   ],
   "source": [
    "pip install tensorflow"
>>>>>>> Stashed changes
   ]
  },
  {
   "cell_type": "code",
   "execution_count": 1,
   "metadata": {},
   "outputs": [
    {
     "data": {
      "text/plain": [
       "'2.9.1'"
      ]
     },
     "execution_count": 1,
     "metadata": {},
     "output_type": "execute_result"
    }
   ],
   "source": [
    "import tensorflow as tf\n",
    "tf.__version__\n"
   ]
  },
  {
   "cell_type": "code",
   "execution_count": 3,
   "metadata": {},
   "outputs": [
    {
     "data": {
      "text/plain": [
       "'c:\\\\Users\\\\Admin\\\\Desktop\\\\BTL LTNC\\\\Traffic-Sign-Recognition'"
      ]
     },
     "execution_count": 3,
     "metadata": {},
     "output_type": "execute_result"
    }
   ],
   "source": [
    "pwd"
   ]
  },
  {
   "cell_type": "code",
   "execution_count": 2,
   "metadata": {},
   "outputs": [],
   "source": [
    "link = \"https://d17h27t6h515a5.cloudfront.net/topher/2017/February/5898cd6f_traffic-signs-data/traffic-signs-data.zip\""
   ]
  },
  {
   "cell_type": "code",
   "execution_count": 7,
   "metadata": {},
   "outputs": [
    {
     "name": "stdout",
     "output_type": "stream",
     "text": [
      "Collecting wgetNote: you may need to restart the kernel to use updated packages.\n",
      "\n",
      "  Downloading wget-3.2.zip (10 kB)\n",
      "  Preparing metadata (setup.py): started\n",
      "  Preparing metadata (setup.py): finished with status 'done'\n",
      "Building wheels for collected packages: wget\n",
      "  Building wheel for wget (setup.py): started\n",
      "  Building wheel for wget (setup.py): finished with status 'done'\n",
      "  Created wheel for wget: filename=wget-3.2-py3-none-any.whl size=9675 sha256=d07d00483c373b2f0cbdf2500138b8d6fabb6472e8830f8ee7c4f474abf75454\n",
      "  Stored in directory: c:\\users\\admin\\appdata\\local\\pip\\cache\\wheels\\8b\\f1\\7f\\5c94f0a7a505ca1c81cd1d9208ae2064675d97582078e6c769\n",
      "Successfully built wget\n",
      "Installing collected packages: wget\n",
      "Successfully installed wget-3.2\n"
     ]
    }
   ],
   "source": [
    "pip install wget"
   ]
  },
  {
   "cell_type": "code",
   "execution_count": 2,
   "metadata": {},
   "outputs": [],
   "source": [
    "import wget"
   ]
  },
  {
   "cell_type": "code",
   "execution_count": 9,
   "metadata": {},
   "outputs": [
    {
     "data": {
      "text/plain": [
       "'traffic-signs-data.zip'"
      ]
     },
     "execution_count": 9,
     "metadata": {},
     "output_type": "execute_result"
    }
   ],
   "source": [
    "wget.download(link)"
   ]
  },
  {
   "cell_type": "code",
<<<<<<< Updated upstream
   "execution_count": 2,
=======
   "execution_count": 3,
>>>>>>> Stashed changes
   "metadata": {},
   "outputs": [],
   "source": [
    "data = \"./\""
   ]
  },
  {
   "cell_type": "code",
   "execution_count": 5,
   "metadata": {},
   "outputs": [
    {
     "name": "stderr",
     "output_type": "stream",
     "text": [
      "'unzip' is not recognized as an internal or external command,\n",
      "operable program or batch file.\n"
     ]
    }
   ],
   "source": [
    "!unzip -q traffic-signs-data.zip -d $data"
   ]
  },
  {
   "cell_type": "code",
<<<<<<< Updated upstream
   "execution_count": 3,
=======
   "execution_count": 4,
>>>>>>> Stashed changes
   "metadata": {},
   "outputs": [],
   "source": [
    "train_link = data + \"train.p\"\n",
    "valid_link = data + \"valid.p\"\n",
    "test_link = data + \"test.p\""
   ]
  },
  {
   "cell_type": "code",
<<<<<<< Updated upstream
   "execution_count": 4,
=======
   "execution_count": 5,
>>>>>>> Stashed changes
   "metadata": {},
   "outputs": [],
   "source": [
    "import pickle"
   ]
  },
  {
   "cell_type": "code",
<<<<<<< Updated upstream
   "execution_count": 5,
=======
   "execution_count": 6,
>>>>>>> Stashed changes
   "metadata": {},
   "outputs": [],
   "source": [
    "with open(train_link,mode=\"rb\") as f:\n",
    "    train= pickle.load(f)\n",
    "with open(test_link,mode=\"rb\") as f:\n",
    "    test= pickle.load(f)\n",
    "with open(valid_link,mode=\"rb\") as f:\n",
    "    valid= pickle.load(f)"
   ]
  },
  {
   "cell_type": "code",
<<<<<<< Updated upstream
   "execution_count": 6,
=======
   "execution_count": 8,
>>>>>>> Stashed changes
   "metadata": {},
   "outputs": [],
   "source": [
    "trainX = train[\"features\"]\n",
    "trainY = train[\"labels\"]"
   ]
  },
  {
   "cell_type": "code",
   "execution_count": 15,
   "metadata": {},
   "outputs": [
    {
     "data": {
      "text/plain": [
       "(34799, 32, 32, 3)"
      ]
     },
     "execution_count": 15,
     "metadata": {},
     "output_type": "execute_result"
    }
   ],
   "source": [
    "trainX.shape "
   ]
  },
  {
   "cell_type": "code",
   "execution_count": 13,
   "metadata": {},
   "outputs": [
    {
     "data": {
      "text/plain": [
       "(32, 32, 3)"
      ]
     },
     "execution_count": 13,
     "metadata": {},
     "output_type": "execute_result"
    }
   ],
   "source": [
    "trainX[0].shape"
   ]
  },
  {
   "cell_type": "code",
   "execution_count": 16,
   "metadata": {},
   "outputs": [
    {
     "name": "stdout",
     "output_type": "stream",
     "text": [
      "Collecting matplotlib\n",
      "  Downloading matplotlib-3.5.2-cp310-cp310-win_amd64.whl (7.2 MB)\n",
      "     ---------------------------------------- 7.2/7.2 MB 849.5 kB/s eta 0:00:00\n",
      "Requirement already satisfied: numpy>=1.17 in c:\\users\\admin\\appdata\\local\\programs\\python\\python310\\lib\\site-packages (from matplotlib) (1.22.4)\n",
      "Collecting fonttools>=4.22.0\n",
      "  Downloading fonttools-4.33.3-py3-none-any.whl (930 kB)\n",
      "     ------------------------------------ 930.9/930.9 kB 607.7 kB/s eta 0:00:00\n",
      "Requirement already satisfied: packaging>=20.0 in c:\\users\\admin\\appdata\\local\\programs\\python\\python310\\lib\\site-packages (from matplotlib) (21.3)\n",
      "Requirement already satisfied: python-dateutil>=2.7 in c:\\users\\admin\\appdata\\local\\programs\\python\\python310\\lib\\site-packages (from matplotlib) (2.8.2)\n",
      "Requirement already satisfied: pyparsing>=2.2.1 in c:\\users\\admin\\appdata\\local\\programs\\python\\python310\\lib\\site-packages (from matplotlib) (3.0.9)\n",
      "Collecting cycler>=0.10\n",
      "  Using cached cycler-0.11.0-py3-none-any.whl (6.4 kB)\n",
      "Collecting kiwisolver>=1.0.1\n",
      "  Downloading kiwisolver-1.4.2-cp310-cp310-win_amd64.whl (55 kB)\n",
      "     -------------------------------------- 55.3/55.3 kB 959.1 kB/s eta 0:00:00\n",
      "Collecting pillow>=6.2.0\n",
      "  Downloading Pillow-9.1.1-cp310-cp310-win_amd64.whl (3.3 MB)\n",
      "     ---------------------------------------- 3.3/3.3 MB 776.2 kB/s eta 0:00:00\n",
      "Requirement already satisfied: six>=1.5 in c:\\users\\admin\\appdata\\local\\programs\\python\\python310\\lib\\site-packages (from python-dateutil>=2.7->matplotlib) (1.16.0)\n",
      "Installing collected packages: pillow, kiwisolver, fonttools, cycler, matplotlib\n",
      "Successfully installed cycler-0.11.0 fonttools-4.33.3 kiwisolver-1.4.2 matplotlib-3.5.2 pillow-9.1.1\n",
      "Note: you may need to restart the kernel to use updated packages.\n"
     ]
    }
   ],
   "source": [
    "pip install matplotlib"
   ]
  },
  {
   "cell_type": "code",
<<<<<<< Updated upstream
   "execution_count": 7,
=======
   "execution_count": 17,
>>>>>>> Stashed changes
   "metadata": {},
   "outputs": [],
   "source": [
    "import matplotlib.pyplot as plt"
   ]
  },
  {
   "cell_type": "code",
<<<<<<< Updated upstream
   "execution_count": 8,
=======
   "execution_count": 18,
>>>>>>> Stashed changes
   "metadata": {},
   "outputs": [
    {
     "data": {
      "text/plain": [
<<<<<<< Updated upstream
       "<matplotlib.image.AxesImage at 0x27679c69960>"
      ]
     },
     "execution_count": 8,
=======
       "<matplotlib.image.AxesImage at 0x240c818fe80>"
      ]
     },
     "execution_count": 18,
>>>>>>> Stashed changes
     "metadata": {},
     "output_type": "execute_result"
    },
    {
     "data": {
      "image/png": "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",
      "text/plain": [
       "<Figure size 432x288 with 1 Axes>"
      ]
     },
     "metadata": {
      "needs_background": "light"
     },
     "output_type": "display_data"
    }
   ],
   "source": [
    "plt.imshow(trainX[0])"
   ]
  },
  {
   "cell_type": "code",
   "execution_count": 19,
   "metadata": {},
   "outputs": [
    {
     "data": {
      "text/plain": [
       "<matplotlib.image.AxesImage at 0x240c82ce080>"
      ]
     },
     "execution_count": 19,
     "metadata": {},
     "output_type": "execute_result"
    },
    {
     "data": {
      "image/png": "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",
      "text/plain": [
       "<Figure size 432x288 with 1 Axes>"
      ]
     },
     "metadata": {
      "needs_background": "light"
     },
     "output_type": "display_data"
    }
   ],
   "source": [
    "plt.imshow(trainX[50])"
   ]
  },
  {
   "cell_type": "code",
   "execution_count": 20,
   "metadata": {},
   "outputs": [
    {
     "data": {
      "text/plain": [
       "41"
      ]
     },
     "execution_count": 20,
     "metadata": {},
     "output_type": "execute_result"
    }
   ],
   "source": [
    "trainY[50]"
   ]
  },
  {
   "cell_type": "code",
<<<<<<< Updated upstream
   "execution_count": 9,
=======
   "execution_count": 21,
>>>>>>> Stashed changes
   "metadata": {},
   "outputs": [],
   "source": [
    "classNames = {0: 'Speed limit (20km/h)',\n",
    " 1: 'Speed limit (30km/h)',\n",
    " 2: 'Speed limit (50km/h)',\n",
    " 3: 'Speed limit (60km/h)',\n",
    " 4: 'Speed limit (70km/h)',\n",
    " 5: 'Speed limit (80km/h)',\n",
    " 6: 'End of speed limit (80km/h)',\n",
    " 7: 'Speed limit (100km/h)',\n",
    " 8: 'Speed limit (120km/h)',\n",
    " 9: 'No passing',\n",
    " 10: 'No passing for vehicles over 3.5 metric tons',\n",
    " 11: 'Right-of-way at the next intersection',\n",
    " 12: 'Priority road',\n",
    " 13: 'Yield',\n",
    " 14: 'Stop',\n",
    " 15: 'No vehicles',\n",
    " 16: 'Vehicles over 3.5 metric tons prohibited',\n",
    " 17: 'No entry',\n",
    " 18: 'General caution',\n",
    " 19: 'Dangerous curve to the left',\n",
    " 20: 'Dangerous curve to the right',\n",
    " 21: 'Double curve',\n",
    " 22: 'Bumpy road',\n",
    " 23: 'Slippery road',\n",
    " 24: 'Road narrows on the right',\n",
    " 25: 'Road work',\n",
    " 26: 'Traffic signals',\n",
    " 27: 'Pedestrians',\n",
    " 28: 'Children crossing',\n",
    " 29: 'Bicycles crossing',\n",
    " 30: 'Beware of ice/snow',\n",
    " 31: 'Wild animals crossing',\n",
    " 32: 'End of all speed and passing limits',\n",
    " 33: 'Turn right ahead',\n",
    " 34: 'Turn left ahead',\n",
    " 35: 'Ahead only',\n",
    " 36: 'Go straight or right',\n",
    " 37: 'Go straight or left',\n",
    " 38: 'Keep right',\n",
    " 39: 'Keep left',\n",
    " 40: 'Roundabout mandatory',\n",
    " 41: 'End of no passing',\n",
    " 42: 'End of no passing by vehicles over 3.5 metric tons'}\n",
    "\n"
   ]
  },
  {
   "cell_type": "code",
   "execution_count": 22,
   "metadata": {},
   "outputs": [
    {
     "data": {
      "text/plain": [
       "'End of no passing'"
      ]
     },
     "execution_count": 22,
     "metadata": {},
     "output_type": "execute_result"
    }
   ],
   "source": [
    "classNames[trainY[50]]"
   ]
  },
  {
   "cell_type": "code",
   "execution_count": 24,
   "metadata": {},
   "outputs": [
    {
     "name": "stdout",
     "output_type": "stream",
     "text": [
      "Collecting sklearn\n",
      "  Using cached sklearn-0.0.tar.gz (1.1 kB)\n",
      "  Preparing metadata (setup.py): started\n",
      "  Preparing metadata (setup.py): finished with status 'done'\n",
      "Collecting scikit-learn\n",
      "  Downloading scikit_learn-1.1.1-cp310-cp310-win_amd64.whl (7.3 MB)\n",
      "     ---------------------------------------- 7.3/7.3 MB 1.2 MB/s eta 0:00:00\n",
      "Requirement already satisfied: numpy>=1.17.3 in c:\\users\\admin\\appdata\\local\\programs\\python\\python310\\lib\\site-packages (from scikit-learn->sklearn) (1.22.4)\n",
      "Collecting scipy>=1.3.2\n",
      "  Downloading scipy-1.8.1-cp310-cp310-win_amd64.whl (36.9 MB)\n",
      "     ---------------------------------------- 36.9/36.9 MB 1.4 MB/s eta 0:00:00\n",
      "Collecting joblib>=1.0.0\n",
      "  Using cached joblib-1.1.0-py2.py3-none-any.whl (306 kB)\n",
      "Collecting threadpoolctl>=2.0.0\n",
      "  Downloading threadpoolctl-3.1.0-py3-none-any.whl (14 kB)\n",
      "Building wheels for collected packages: sklearn\n",
      "  Building wheel for sklearn (setup.py): started\n",
      "  Building wheel for sklearn (setup.py): finished with status 'done'\n",
      "  Created wheel for sklearn: filename=sklearn-0.0-py2.py3-none-any.whl size=1310 sha256=3d97829740f80420d4ffc8c9fee0669c6f30074c07ff9392d607d861895e1476\n",
      "  Stored in directory: c:\\users\\admin\\appdata\\local\\pip\\cache\\wheels\\9b\\13\\01\\6f3a7fd641f90e1f6c8c7cded057f3394f451f340371c68f3d\n",
      "Successfully built sklearn\n",
      "Installing collected packages: threadpoolctl, scipy, joblib, scikit-learn, sklearn\n",
      "Successfully installed joblib-1.1.0 scikit-learn-1.1.1 scipy-1.8.1 sklearn-0.0 threadpoolctl-3.1.0\n",
      "Note: you may need to restart the kernel to use updated packages.\n"
     ]
    }
   ],
   "source": [
    "pip install sklearn"
   ]
  },
  {
   "cell_type": "code",
<<<<<<< Updated upstream
   "execution_count": 10,
=======
   "execution_count": 25,
>>>>>>> Stashed changes
   "metadata": {},
   "outputs": [],
   "source": [
    "from sklearn.utils import shuffle"
   ]
  },
  {
   "cell_type": "code",
<<<<<<< Updated upstream
   "execution_count": 11,
=======
   "execution_count": 26,
>>>>>>> Stashed changes
   "metadata": {},
   "outputs": [],
   "source": [
    "trainX , trainY = shuffle(trainX , trainY)"
   ]
  },
  {
   "cell_type": "code",
<<<<<<< Updated upstream
   "execution_count": 12,
=======
   "execution_count": 27,
>>>>>>> Stashed changes
   "metadata": {},
   "outputs": [
    {
     "data": {
      "text/plain": [
<<<<<<< Updated upstream
       "<matplotlib.image.AxesImage at 0x2767e642aa0>"
      ]
     },
     "execution_count": 12,
=======
       "<matplotlib.image.AxesImage at 0x240d79f46a0>"
      ]
     },
     "execution_count": 27,
>>>>>>> Stashed changes
     "metadata": {},
     "output_type": "execute_result"
    },
    {
     "data": {
<<<<<<< Updated upstream
      "image/png": "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",
=======
      "image/png": "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",
>>>>>>> Stashed changes
      "text/plain": [
       "<Figure size 432x288 with 1 Axes>"
      ]
     },
     "metadata": {
      "needs_background": "light"
     },
     "output_type": "display_data"
    }
   ],
   "source": [
    "plt.imshow(trainX[0])"
   ]
  },
  {
   "cell_type": "code",
<<<<<<< Updated upstream
   "execution_count": 13,
=======
   "execution_count": 28,
>>>>>>> Stashed changes
   "metadata": {},
   "outputs": [],
   "source": [
    "validX , validY = valid[\"features\"] , valid[\"labels\"]\n",
    "testX, testY = test[\"features\"] , test[\"labels\"]"
   ]
  },
  {
   "cell_type": "code",
<<<<<<< Updated upstream
   "execution_count": 14,
=======
   "execution_count": 29,
>>>>>>> Stashed changes
   "metadata": {},
   "outputs": [],
   "source": [
    "trainX = trainX.astype(\"float\")/255.0\n",
    "validX = validX.astype(\"float\")/255.0\n",
    "testX = testX.astype(\"float\")/255.0"
   ]
  },
  {
   "cell_type": "code",
   "execution_count": 30,
   "metadata": {},
   "outputs": [
    {
     "data": {
      "text/plain": [
       "array([[[0.2       , 0.14509804, 0.20784314],\n",
       "        [0.21960784, 0.22745098, 0.3254902 ],\n",
       "        [0.29411765, 0.32941176, 0.39607843],\n",
       "        ...,\n",
       "        [0.29019608, 0.25882353, 0.30588235],\n",
       "        [0.3254902 , 0.29803922, 0.36862745],\n",
       "        [0.31372549, 0.33333333, 0.41960784]],\n",
       "\n",
       "       [[0.19215686, 0.14901961, 0.20784314],\n",
       "        [0.21960784, 0.21960784, 0.30980392],\n",
       "        [0.29803922, 0.31764706, 0.38039216],\n",
       "        ...,\n",
       "        [0.29019608, 0.2627451 , 0.30588235],\n",
       "        [0.31764706, 0.30588235, 0.36470588],\n",
       "        [0.30196078, 0.3254902 , 0.39215686]],\n",
       "\n",
       "       [[0.19215686, 0.14901961, 0.2       ],\n",
       "        [0.20784314, 0.2       , 0.2745098 ],\n",
       "        [0.2627451 , 0.27843137, 0.31372549],\n",
       "        ...,\n",
       "        [0.28235294, 0.25882353, 0.30588235],\n",
       "        [0.30588235, 0.30196078, 0.35686275],\n",
       "        [0.30196078, 0.33333333, 0.37647059]],\n",
       "\n",
       "       ...,\n",
       "\n",
       "       [[0.34509804, 0.30588235, 0.29019608],\n",
       "        [0.36862745, 0.30588235, 0.20784314],\n",
       "        [0.47058824, 0.37647059, 0.47058824],\n",
       "        ...,\n",
       "        [0.1254902 , 0.10980392, 0.14901961],\n",
       "        [0.11372549, 0.11372549, 0.15294118],\n",
       "        [0.12156863, 0.13333333, 0.16862745]],\n",
       "\n",
       "       [[0.84705882, 0.82745098, 0.80784314],\n",
       "        [0.65098039, 0.51764706, 0.36862745],\n",
       "        [0.61568627, 0.42745098, 0.61568627],\n",
       "        ...,\n",
       "        [0.13333333, 0.11372549, 0.15294118],\n",
       "        [0.1254902 , 0.11764706, 0.15686275],\n",
       "        [0.10980392, 0.10980392, 0.15294118]],\n",
       "\n",
       "       [[1.        , 0.99607843, 0.9372549 ],\n",
       "        [0.87058824, 0.76470588, 0.57647059],\n",
       "        [0.71372549, 0.40392157, 0.51372549],\n",
       "        ...,\n",
       "        [0.13333333, 0.10980392, 0.14509804],\n",
       "        [0.12941176, 0.10980392, 0.14509804],\n",
       "        [0.11372549, 0.09803922, 0.1372549 ]]])"
      ]
     },
     "execution_count": 30,
     "metadata": {},
     "output_type": "execute_result"
    }
   ],
   "source": [
    "testX[10]"
   ]
  },
  {
   "cell_type": "code",
<<<<<<< Updated upstream
   "execution_count": 15,
=======
   "execution_count": 31,
>>>>>>> Stashed changes
   "metadata": {},
   "outputs": [],
   "source": [
    "from sklearn.preprocessing import LabelBinarizer\n",
    "lb = LabelBinarizer()"
   ]
  },
  {
   "cell_type": "code",
<<<<<<< Updated upstream
   "execution_count": 16,
=======
   "execution_count": 32,
>>>>>>> Stashed changes
   "metadata": {},
   "outputs": [
    {
     "data": {
      "text/plain": [
       "array([[0, 0, 0, ..., 0, 0, 0],\n",
       "       [0, 0, 0, ..., 0, 0, 0],\n",
       "       [0, 0, 0, ..., 0, 0, 0],\n",
       "       ...,\n",
       "       [0, 0, 0, ..., 0, 0, 0],\n",
<<<<<<< Updated upstream
       "       [0, 0, 1, ..., 0, 0, 0],\n",
       "       [0, 0, 0, ..., 0, 0, 0]])"
      ]
     },
     "execution_count": 16,
=======
       "       [0, 0, 0, ..., 0, 0, 0],\n",
       "       [0, 0, 0, ..., 0, 0, 0]])"
      ]
     },
     "execution_count": 32,
>>>>>>> Stashed changes
     "metadata": {},
     "output_type": "execute_result"
    }
   ],
   "source": [
    "trainY = lb.fit_transform(trainY)\n",
    "trainY"
   ]
  },
  {
   "cell_type": "code",
<<<<<<< Updated upstream
   "execution_count": 17,
=======
   "execution_count": 33,
>>>>>>> Stashed changes
   "metadata": {},
   "outputs": [],
   "source": [
    "validY = lb.fit_transform(validY)\n",
    "testY = lb.fit_transform(testY) "
   ]
  },
  {
   "cell_type": "code",
   "execution_count": 34,
   "metadata": {},
   "outputs": [
    {
     "data": {
      "text/plain": [
       "41"
      ]
     },
     "execution_count": 34,
     "metadata": {},
     "output_type": "execute_result"
    }
   ],
   "source": [
    "valid[\"labels\"][0]"
   ]
  },
  {
   "cell_type": "code",
   "execution_count": 35,
   "metadata": {},
   "outputs": [
    {
     "data": {
      "text/plain": [
       "array([0, 0, 0, 0, 0, 0, 0, 0, 0, 0, 0, 0, 0, 0, 0, 0, 0, 0, 0, 0, 0, 0,\n",
       "       0, 0, 0, 0, 0, 0, 0, 0, 0, 0, 0, 0, 0, 0, 0, 0, 0, 0, 0, 1, 0])"
      ]
     },
     "execution_count": 35,
     "metadata": {},
     "output_type": "execute_result"
    }
   ],
   "source": [
    "validY[0]"
   ]
  },
  {
   "cell_type": "code",
<<<<<<< Updated upstream
   "execution_count": 18,
=======
   "execution_count": 37,
>>>>>>> Stashed changes
   "metadata": {},
   "outputs": [],
   "source": [
    "from tensorflow.keras.models import Model, Sequential\n",
    "from tensorflow.keras.layers import BatchNormalization \n",
    "from tensorflow.keras.layers import AveragePooling2D\n",
    "from tensorflow.keras.layers import MaxPooling2D\n",
    "from tensorflow.keras.layers import Conv2D\n",
    "from tensorflow.keras.layers import  Activation  \n",
    "from tensorflow.keras.layers import  Dropout  \n",
    "from tensorflow.keras.layers import  Flatten \n",
    "from tensorflow.keras.layers import Input\n",
    "from tensorflow.keras.layers import Dense\n",
    "from tensorflow.keras.layers import concatenate\n",
    "\n",
    "from tensorflow.keras.preprocessing.image import ImageDataGenerator\n",
    "from tensorflow.keras.optimizers import SGD"
   ]
  },
  {
   "cell_type": "code",
<<<<<<< Updated upstream
   "execution_count": 19,
=======
   "execution_count": 38,
>>>>>>> Stashed changes
   "metadata": {},
   "outputs": [],
   "source": [
    "model = Sequential()"
   ]
  },
  {
   "cell_type": "code",
<<<<<<< Updated upstream
   "execution_count": 20,
=======
   "execution_count": 40,
>>>>>>> Stashed changes
   "metadata": {},
   "outputs": [],
   "source": [
    "width =32\n",
    "height=32\n",
    "classes =43"
   ]
  },
  {
   "cell_type": "code",
<<<<<<< Updated upstream
   "execution_count": 21,
=======
   "execution_count": 41,
>>>>>>> Stashed changes
   "metadata": {},
   "outputs": [],
   "source": [
    "shape = (width,height , 3)"
   ]
  },
  {
   "cell_type": "code",
<<<<<<< Updated upstream
   "execution_count": 22,
=======
   "execution_count": 51,
>>>>>>> Stashed changes
   "metadata": {},
   "outputs": [],
   "source": [
    "model.add(Conv2D(32,(3,3),padding = \"same\", input_shape = shape))"
   ]
  },
  {
   "cell_type": "code",
<<<<<<< Updated upstream
   "execution_count": 23,
=======
   "execution_count": 68,
>>>>>>> Stashed changes
   "metadata": {},
   "outputs": [],
   "source": [
    "model.add(Activation(\"relu\"))"
   ]
  },
  {
   "cell_type": "code",
<<<<<<< Updated upstream
   "execution_count": 24,
=======
   "execution_count": 70,
>>>>>>> Stashed changes
   "metadata": {},
   "outputs": [],
   "source": [
    "model.add(BatchNormalization())"
   ]
  },
  {
   "cell_type": "code",
<<<<<<< Updated upstream
   "execution_count": 25,
=======
   "execution_count": 72,
>>>>>>> Stashed changes
   "metadata": {},
   "outputs": [],
   "source": [
    "model.add(Conv2D(32,(3,3),padding = \"same\"))"
   ]
  },
  {
   "cell_type": "code",
<<<<<<< Updated upstream
   "execution_count": 26,
=======
   "execution_count": 73,
>>>>>>> Stashed changes
   "metadata": {},
   "outputs": [],
   "source": [
    "model.add(Activation(\"relu\"))"
   ]
  },
  {
   "cell_type": "code",
<<<<<<< Updated upstream
   "execution_count": 27,
=======
   "execution_count": 74,
>>>>>>> Stashed changes
   "metadata": {},
   "outputs": [],
   "source": [
    "model.add(BatchNormalization())"
   ]
  },
  {
   "cell_type": "code",
<<<<<<< Updated upstream
   "execution_count": 28,
=======
   "execution_count": 76,
>>>>>>> Stashed changes
   "metadata": {},
   "outputs": [],
   "source": [
    "model.add(MaxPooling2D(pool_size=(2,2)))"
   ]
  },
  {
   "cell_type": "code",
<<<<<<< Updated upstream
   "execution_count": 29,
=======
   "execution_count": 78,
>>>>>>> Stashed changes
   "metadata": {},
   "outputs": [],
   "source": [
    "model.add(Conv2D(64,(3,3),padding = \"same\"))"
   ]
  },
  {
   "cell_type": "code",
<<<<<<< Updated upstream
   "execution_count": 30,
=======
   "execution_count": 79,
>>>>>>> Stashed changes
   "metadata": {},
   "outputs": [],
   "source": [
    "model.add(Activation(\"relu\"))"
   ]
  },
  {
   "cell_type": "code",
<<<<<<< Updated upstream
   "execution_count": 31,
=======
   "execution_count": 80,
>>>>>>> Stashed changes
   "metadata": {},
   "outputs": [],
   "source": [
    "model.add(BatchNormalization())"
   ]
  },
  {
   "cell_type": "code",
<<<<<<< Updated upstream
   "execution_count": 32,
=======
   "execution_count": 81,
>>>>>>> Stashed changes
   "metadata": {},
   "outputs": [],
   "source": [
    "model.add(Conv2D(64,(3,3),padding = \"same\"))"
   ]
  },
  {
   "cell_type": "code",
<<<<<<< Updated upstream
   "execution_count": 33,
=======
   "execution_count": 82,
>>>>>>> Stashed changes
   "metadata": {},
   "outputs": [],
   "source": [
    "model.add(Activation(\"relu\"))"
   ]
  },
  {
   "cell_type": "code",
<<<<<<< Updated upstream
   "execution_count": 34,
=======
   "execution_count": 83,
>>>>>>> Stashed changes
   "metadata": {},
   "outputs": [],
   "source": [
    "model.add(BatchNormalization())\n"
   ]
  },
  {
   "cell_type": "code",
<<<<<<< Updated upstream
   "execution_count": 35,
=======
   "execution_count": 84,
>>>>>>> Stashed changes
   "metadata": {},
   "outputs": [],
   "source": [
    "model.add(MaxPooling2D(pool_size=(2,2)))"
   ]
  },
  {
   "cell_type": "code",
<<<<<<< Updated upstream
   "execution_count": 36,
=======
   "execution_count": 86,
>>>>>>> Stashed changes
   "metadata": {},
   "outputs": [],
   "source": [
    "model.add(Flatten())"
   ]
  },
  {
   "cell_type": "code",
<<<<<<< Updated upstream
   "execution_count": 37,
=======
   "execution_count": 92,
>>>>>>> Stashed changes
   "metadata": {},
   "outputs": [],
   "source": [
    "model.add(Dense(512))"
   ]
  },
  {
   "cell_type": "code",
<<<<<<< Updated upstream
   "execution_count": 38,
=======
   "execution_count": 95,
>>>>>>> Stashed changes
   "metadata": {},
   "outputs": [],
   "source": [
    "model.add(Activation(\"relu\"))"
   ]
  },
  {
   "cell_type": "code",
<<<<<<< Updated upstream
   "execution_count": 39,
=======
   "execution_count": 96,
>>>>>>> Stashed changes
   "metadata": {},
   "outputs": [],
   "source": [
    "model.add(BatchNormalization())"
   ]
  },
  {
   "cell_type": "code",
<<<<<<< Updated upstream
   "execution_count": 40,
=======
   "execution_count": 101,
>>>>>>> Stashed changes
   "metadata": {},
   "outputs": [],
   "source": [
    "model.add(Dense(classes))"
   ]
  },
  {
   "cell_type": "code",
<<<<<<< Updated upstream
   "execution_count": 41,
=======
   "execution_count": 105,
>>>>>>> Stashed changes
   "metadata": {},
   "outputs": [],
   "source": [
    "model.add(Activation(\"softmax\"))"
   ]
  },
  {
   "cell_type": "code",
<<<<<<< Updated upstream
   "execution_count": 42,
=======
   "execution_count": 106,
>>>>>>> Stashed changes
   "metadata": {},
   "outputs": [
    {
     "name": "stdout",
     "output_type": "stream",
     "text": [
      "Model: \"sequential\"\n",
      "____________________________________________________________________________________________________\n",
      " Layer (type)                                Output Shape                            Param #        \n",
      "====================================================================================================\n",
      " conv2d (Conv2D)                             (None, 32, 32, 32)                      896            \n",
      "                                                                                                    \n",
      " activation (Activation)                     (None, 32, 32, 32)                      0              \n",
      "                                                                                                    \n",
      " batch_normalization (BatchNormalization)    (None, 32, 32, 32)                      128            \n",
      "                                                                                                    \n",
<<<<<<< Updated upstream
      " conv2d_1 (Conv2D)                           (None, 32, 32, 32)                      9248           \n",
=======
      " conv2d_2 (Conv2D)                           (None, 32, 32, 32)                      9248           \n",
>>>>>>> Stashed changes
      "                                                                                                    \n",
      " activation_1 (Activation)                   (None, 32, 32, 32)                      0              \n",
      "                                                                                                    \n",
      " batch_normalization_1 (BatchNormalization)  (None, 32, 32, 32)                      128            \n",
      "                                                                                                    \n",
      " max_pooling2d (MaxPooling2D)                (None, 16, 16, 32)                      0              \n",
      "                                                                                                    \n",
<<<<<<< Updated upstream
      " conv2d_2 (Conv2D)                           (None, 16, 16, 64)                      18496          \n",
=======
      " conv2d_3 (Conv2D)                           (None, 16, 16, 64)                      18496          \n",
>>>>>>> Stashed changes
      "                                                                                                    \n",
      " activation_2 (Activation)                   (None, 16, 16, 64)                      0              \n",
      "                                                                                                    \n",
      " batch_normalization_2 (BatchNormalization)  (None, 16, 16, 64)                      256            \n",
      "                                                                                                    \n",
<<<<<<< Updated upstream
      " conv2d_3 (Conv2D)                           (None, 16, 16, 64)                      36928          \n",
=======
      " conv2d_4 (Conv2D)                           (None, 16, 16, 64)                      36928          \n",
>>>>>>> Stashed changes
      "                                                                                                    \n",
      " activation_3 (Activation)                   (None, 16, 16, 64)                      0              \n",
      "                                                                                                    \n",
      " batch_normalization_3 (BatchNormalization)  (None, 16, 16, 64)                      256            \n",
      "                                                                                                    \n",
      " max_pooling2d_1 (MaxPooling2D)              (None, 8, 8, 64)                        0              \n",
      "                                                                                                    \n",
      " flatten (Flatten)                           (None, 4096)                            0              \n",
      "                                                                                                    \n",
      " dense (Dense)                               (None, 512)                             2097664        \n",
      "                                                                                                    \n",
      " activation_4 (Activation)                   (None, 512)                             0              \n",
      "                                                                                                    \n",
      " batch_normalization_4 (BatchNormalization)  (None, 512)                             2048           \n",
      "                                                                                                    \n",
      " dense_1 (Dense)                             (None, 43)                              22059          \n",
      "                                                                                                    \n",
      " activation_5 (Activation)                   (None, 43)                              0              \n",
      "                                                                                                    \n",
      "====================================================================================================\n",
      "Total params: 2,188,107\n",
      "Trainable params: 2,186,699\n",
      "Non-trainable params: 1,408\n",
      "____________________________________________________________________________________________________\n"
     ]
    }
   ],
   "source": [
    "model.summary(line_length = 100)"
   ]
  },
  {
   "cell_type": "code",
   "execution_count": 104,
   "metadata": {},
   "outputs": [
    {
     "data": {
      "text/plain": [
       "<keras.layers.core.dense.Dense at 0x240d7b0da20>"
      ]
     },
     "execution_count": 104,
     "metadata": {},
     "output_type": "execute_result"
    }
   ],
   "source": [
    "model.layers[-1]"
   ]
<<<<<<< Updated upstream
  },
  {
   "cell_type": "code",
   "execution_count": 43,
   "metadata": {},
   "outputs": [],
   "source": [
    "aug = ImageDataGenerator(rotation_range= 0.18 , zoom_range= 0.15 , width_shift_range=0.2, height_shift_range=0.2, horizontal_flip=True)"
   ]
  },
  {
   "cell_type": "code",
   "execution_count": 44,
   "metadata": {},
   "outputs": [],
   "source": [
    "learning_rate = 0.01"
   ]
  },
  {
   "cell_type": "code",
   "execution_count": 45,
   "metadata": {},
   "outputs": [],
   "source": [
    "epochs = 10\n",
    "#epochs\n",
    "#steps\n",
    "#\n",
    "batch_size = 64"
   ]
  },
  {
   "cell_type": "code",
   "execution_count": 46,
   "metadata": {},
   "outputs": [],
   "source": [
    "otp = SGD(learning_rate = learning_rate , momentum = 0.9)"
   ]
  },
  {
   "cell_type": "code",
   "execution_count": 47,
   "metadata": {},
   "outputs": [],
   "source": [
    "model.compile(optimizer = otp , loss =\"categorical_crossentropy\" , metrics = [\"accuracy\"])"
   ]
  },
  {
   "cell_type": "code",
   "execution_count": 48,
   "metadata": {},
   "outputs": [],
   "source": [
    "import scipy"
   ]
  },
  {
   "cell_type": "code",
   "execution_count": 49,
   "metadata": {},
   "outputs": [
    {
     "name": "stdout",
     "output_type": "stream",
     "text": [
      "Start training\n"
     ]
    },
    {
     "name": "stderr",
     "output_type": "stream",
     "text": [
      "C:\\Users\\Admin\\AppData\\Local\\Temp\\ipykernel_9124\\282219266.py:2: UserWarning: `Model.fit_generator` is deprecated and will be removed in a future version. Please use `Model.fit`, which supports generators.\n",
      "  H = model.fit_generator(aug.flow(trainX,trainY,batch_size = batch_size), validation_data=(validX,validY), steps_per_epoch=  trainX.shape[0]//batch_size, epochs=epochs , verbose =1)\n"
     ]
    },
    {
     "name": "stdout",
     "output_type": "stream",
     "text": [
      "Epoch 1/10\n",
      "543/543 [==============================] - 260s 475ms/step - loss: 1.8461 - accuracy: 0.4640 - val_loss: 1.5831 - val_accuracy: 0.5227\n",
      "Epoch 2/10\n",
      "543/543 [==============================] - 243s 447ms/step - loss: 0.6738 - accuracy: 0.7776 - val_loss: 0.9794 - val_accuracy: 0.7138\n",
      "Epoch 3/10\n",
      "543/543 [==============================] - 238s 439ms/step - loss: 0.3220 - accuracy: 0.8931 - val_loss: 0.8356 - val_accuracy: 0.7610\n",
      "Epoch 4/10\n",
      "543/543 [==============================] - 240s 443ms/step - loss: 0.1931 - accuracy: 0.9367 - val_loss: 0.6869 - val_accuracy: 0.8179\n",
      "Epoch 5/10\n",
      "543/543 [==============================] - 231s 424ms/step - loss: 0.1495 - accuracy: 0.9506 - val_loss: 0.6680 - val_accuracy: 0.8170\n",
      "Epoch 6/10\n",
      "543/543 [==============================] - 237s 436ms/step - loss: 0.1059 - accuracy: 0.9672 - val_loss: 0.4613 - val_accuracy: 0.8680\n",
      "Epoch 7/10\n",
      "543/543 [==============================] - 251s 462ms/step - loss: 0.0811 - accuracy: 0.9743 - val_loss: 0.5734 - val_accuracy: 0.8438\n",
      "Epoch 8/10\n",
      "543/543 [==============================] - 260s 479ms/step - loss: 0.0678 - accuracy: 0.9788 - val_loss: 0.6032 - val_accuracy: 0.8506\n",
      "Epoch 9/10\n",
      "543/543 [==============================] - 238s 437ms/step - loss: 0.0539 - accuracy: 0.9838 - val_loss: 0.5461 - val_accuracy: 0.8683\n",
      "Epoch 10/10\n",
      "543/543 [==============================] - 242s 445ms/step - loss: 0.0512 - accuracy: 0.9836 - val_loss: 0.5424 - val_accuracy: 0.8662\n"
     ]
    }
   ],
   "source": [
    "print(\"Start training\")\n",
    "H = model.fit_generator(aug.flow(trainX,trainY,batch_size = batch_size), validation_data=(validX,validY), steps_per_epoch=  trainX.shape[0]//batch_size, epochs=epochs , verbose =1)"
   ]
  },
  {
   "cell_type": "code",
   "execution_count": 50,
   "metadata": {},
   "outputs": [],
   "source": [
    "model.save(\"model01.h5\")"
   ]
=======
>>>>>>> Stashed changes
  }
 ],
 "metadata": {
  "interpreter": {
   "hash": "a42ccb73e7d9bfdf27e036f1d2b8b681e55fc0743cc5586bc2474d4a60f4b886"
  },
  "kernelspec": {
   "display_name": "Python 3.10.4 64-bit",
   "language": "python",
   "name": "python3"
  },
  "language_info": {
   "codemirror_mode": {
    "name": "ipython",
    "version": 3
   },
   "file_extension": ".py",
   "mimetype": "text/x-python",
   "name": "python",
   "nbconvert_exporter": "python",
   "pygments_lexer": "ipython3",
   "version": "3.10.4"
  },
  "orig_nbformat": 4
 },
 "nbformat": 4,
 "nbformat_minor": 2
}
